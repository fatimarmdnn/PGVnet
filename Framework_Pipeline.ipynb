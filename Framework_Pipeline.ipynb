{
 "cells": [
  {
   "cell_type": "code",
   "execution_count": 1,
   "metadata": {},
   "outputs": [],
   "source": [
    "import numpy as np\n",
    "import matplotlib.pyplot as plt\n",
    "import sys\n",
    "sys.path.append('./src') \n",
    "from xgboost_utils import train_xgb\n",
    "from xgboost_predictor import generate_sparse_pgv"
   ]
  },
  {
   "cell_type": "markdown",
   "metadata": {},
   "source": [
    "## Step 1: Train XGBoost Models per Receiver and Generate Sparse Maps\n",
    "\n",
    "1- We train one XGBoost model per receiver  \n"
   ]
  },
  {
   "cell_type": "code",
   "execution_count": null,
   "metadata": {},
   "outputs": [],
   "source": [
    "# load input and output data for receiver\n",
    "receiver_idx         = 139\n",
    "receiver_database    = np.load(f'/media/wolf6819/Elements/reciprocal_db/receiver_{receiver_idx}_database.npz')\n",
    "inputs  = receiver_database['inputs']   # source coords and mechanism ([distance, azimuth, depth, strike, dip, rake, radiation, takeoff] )\n",
    "outputs = receiver_database['outputs']  # pgv along two components (East-West, North-South) in mm/s\n",
    "\n",
    "# train xgboost model \n",
    "pgv_true, pgv_pred = train_xgb(inputs, np.log(outputs[:,0]))  \n",
    "fig, ax = plt.subplots(figsize=(5,5))\n",
    "ax.scatter(pgv_true, pgv_pred)\n",
    "ax.set_xlim([-3,5])\n",
    "ax.set_ylim([-3,5])\n",
    "ax.plot([-3, 5], [-3, 5], 'k--')\n",
    "ax.set_xlabel('True log(PGV) (mm/s)')\n",
    "ax.set_ylabel('Predicted log(PGV) (mm/s)')"
   ]
  },
  {
   "cell_type": "markdown",
   "metadata": {},
   "source": [
    "2- We repeat the process above for all the receivers. The trained models for each receiver \n",
    "and for each of the components are stored in the `models/` directory. \n",
    "\n",
    "3 - We use the trained XGBoost models to generate sparse PGV maps for the forward simulations (used as input for Step 2) "
   ]
  },
  {
   "cell_type": "code",
   "execution_count": null,
   "metadata": {},
   "outputs": [],
   "source": [
    "# generate a sparse PGV map for input source coordinates and focal mechanism\n",
    "# we show an example for the database with 50 source locations, and 50 mechanims per locations refered to as 50_50\n",
    "\n",
    "data_tag   = '50_50'  \n",
    "models_dir = '/media/wolf6819/Elements/models/'\n",
    "spacing_km = 4 \n",
    "station_coords_path = 'data/station_coords_sparse.npz' \n",
    "output_path         = 'data/step1_preds'\n",
    "\n",
    "sparse_maps = generate_sparse_pgv(station_coords_path, models_dir, output_path, data_tag, spacing_km)"
   ]
  },
  {
   "cell_type": "code",
   "execution_count": null,
   "metadata": {},
   "outputs": [],
   "source": [
    "# an example of a sparse PGV map  \n",
    "station_coords_file = 'data/station_coords_sparse.npz'  \n",
    "station_coords = np.load(station_coords_file)['station_coords']\n",
    "fig, ax = plt.subplots(figsize=(5, 5))\n",
    "ax.scatter(station_coords[:,0]/1e3, station_coords[:,1]/1e3, c = sparse_maps[100,:,:,0], s=100, cmap='plasma')\n",
    "# make it nicer\n",
    "ax.set_xlabel('East Distance (km)') \n",
    "ax.set_ylabel('North Distance (km)')    "
   ]
  },
  {
   "cell_type": "markdown",
   "metadata": {},
   "source": [
    "## Step 2: Train the Encoder-MLP on Sparse Maps\n",
    "\n",
    "We use the predicted sparse maps to train an EncoderMLP network \n"
   ]
  },
  {
   "cell_type": "code",
   "execution_count": 4,
   "metadata": {},
   "outputs": [
    {
     "name": "stdout",
     "output_type": "stream",
     "text": [
      "Run ID: 20250617_094624_b323a2 | Seed: 2098295474\n",
      "Number of patches: 32000\n"
     ]
    },
    {
     "name": "stderr",
     "output_type": "stream",
     "text": [
      "Training Epochs: 100%|██████████| 1/1 [01:48<00:00, 108.41s/it]"
     ]
    },
    {
     "name": "stdout",
     "output_type": "stream",
     "text": [
      "Epoch 0: Train Loss 0.1411 | Valid Loss 0.1065\n",
      "Configuration saved to ./results/20250617_094624_b323a2/config.yaml.\n"
     ]
    },
    {
     "name": "stderr",
     "output_type": "stream",
     "text": [
      "\n"
     ]
    }
   ],
   "source": [
    "from types import SimpleNamespace\n",
    "from encoderMLP_predictor import run_train  \n",
    "\n",
    "# Manual config \n",
    "config = SimpleNamespace(\n",
    "  \n",
    "    mode              = \"train\",\n",
    "    data_tag          = \"50_50_x4\",\n",
    "    downsample_factor = 4,\n",
    "    \n",
    "    # additional defaults \n",
    "    data_dir=\"data/\",\n",
    "    transform_input=True,\n",
    "    transform_output=True,\n",
    "    inc_gradient=False,\n",
    "    inc_distance=True,\n",
    "    normalize_output=True,\n",
    "    normalize_input=True,\n",
    "    nx_patch=8,\n",
    "    ny_patch=8,\n",
    "    fourier_features=False,\n",
    "    D=32,\n",
    "    gamma=5.0,\n",
    "    n_samp_pts_per_patch=512,\n",
    "    split=0.8,\n",
    "    batch_size=32,\n",
    "    learning_rate=1e-3,\n",
    "    loss_type=\"mse\",\n",
    "    optimizer=\"adamw\",\n",
    "    num_epochs=1, \n",
    "    enc_type=\"edsr\",\n",
    "    in_channels=5,\n",
    "    out_channels=32,\n",
    "    conv_kernel_size=3,\n",
    "    attention_kernel_size=1,\n",
    "    num_features=32,\n",
    "    num_blocks=8,\n",
    "    nf=32,\n",
    "    activation=\"sine\",\n",
    "    pad_size=4,\n",
    "    sigma=3.0,\n",
    "    results_dir=None  \n",
    ")\n",
    "\n",
    "# Run training\n",
    "run_train(config)\n"
   ]
  },
  {
   "cell_type": "markdown",
   "metadata": {},
   "source": [
    "Next, we test the trained network on an independent set of test events, the results are stored in the relevant dir in the `./results` folder"
   ]
  },
  {
   "cell_type": "code",
   "execution_count": 8,
   "metadata": {},
   "outputs": [
    {
     "name": "stdout",
     "output_type": "stream",
     "text": [
      "Testing using results from: ./results/20250617_094624_b323a2\n"
     ]
    },
    {
     "name": "stderr",
     "output_type": "stream",
     "text": [
      "Reconstructing patches For Test Maps: 100%|██████████| 12500/12500 [00:58<00:00, 212.67it/s]\n"
     ]
    },
    {
     "name": "stdout",
     "output_type": "stream",
     "text": [
      "Test SSIM: 0.7375\n"
     ]
    }
   ],
   "source": [
    "import yaml\n",
    "from encoderMLP_predictor import run_test\n",
    "\n",
    "with open(\"./results/20250617_094624_b323a2/config.yaml\", \"r\") as f:\n",
    "    cfg_dict = yaml.safe_load(f)\n",
    "\n",
    "config             = SimpleNamespace(**cfg_dict)\n",
    "config.mode        = \"test\"\n",
    "config.results_dir = \"./results/20250617_094624_b323a2\"\n",
    "\n",
    "# Run testing\n",
    "run_test(config)"
   ]
  },
  {
   "cell_type": "markdown",
   "metadata": {},
   "source": [
    "We show an example of the true (simulated) vs predicted PGV maps "
   ]
  },
  {
   "cell_type": "code",
   "execution_count": null,
   "metadata": {},
   "outputs": [],
   "source": [
    "preds = np.load('./results/20250617_084729_9a179d/test_preds.npy')\n",
    "gts   = np.load('./results/20250617_084729_9a179d/test_gts.npy')  \n",
    "\n",
    "fig, ax = plt.subplots(1, 2, figsize=(10, 5))  \n",
    "# choose a random idx between 0 and the number of samples in preds  \n",
    "idx  = np.random.randint(0, preds.shape[0]) \n",
    "pred = preds[idx,:,:,0]/10  # predicted PGV    \n",
    "gt   = gts[idx,:,:,0]/10    # true PGV\n",
    "norm = plt.Normalize(vmin=0, vmax=np.max(gt)) \n",
    "   \n",
    "cf0 = ax[0].contourf(gt, cmap='plasma', norm=norm)\n",
    "cf1 = ax[1].contourf(pred, cmap='plasma', norm=norm)\n",
    "\n",
    "ax[0].set_title('True PGV')    \n",
    "ax[1].set_title('Predicted PGV')\n",
    "ax[0].set_xlabel('East Distance (km)')  \n",
    "ax[0].set_ylabel('North Distance (km)') \n",
    "ax[1].set_xlabel('East Distance (km)')  \n",
    "\n",
    "fig.subplots_adjust(right=0.85)  \n",
    "cbar_ax = fig.add_axes([0.88, 0.15, 0.02, 0.7]) \n",
    "fig.colorbar(cf1, cax=cbar_ax).set_label(\"PGV (cm/s)\", fontsize=14)\n",
    "\n",
    "plt.show()"
   ]
  }
 ],
 "metadata": {
  "kernelspec": {
   "display_name": "pgvtrial",
   "language": "python",
   "name": "python3"
  },
  "language_info": {
   "codemirror_mode": {
    "name": "ipython",
    "version": 3
   },
   "file_extension": ".py",
   "mimetype": "text/x-python",
   "name": "python",
   "nbconvert_exporter": "python",
   "pygments_lexer": "ipython3",
   "version": "3.10.12"
  }
 },
 "nbformat": 4,
 "nbformat_minor": 2
}
