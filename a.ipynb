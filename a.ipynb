{
 "cells": [
  {
   "cell_type": "code",
   "execution_count": 7,
   "metadata": {},
   "outputs": [
    {
     "name": "stdout",
     "output_type": "stream",
     "text": [
      "✅ Converted 256 models without loading all into memory.\n"
     ]
    }
   ],
   "source": [
    "import os\n",
    "import re\n",
    "import pickle\n",
    "import xgboost as xgb\n",
    "\n",
    "input_folder = \"/media/wolf6819/Elements/ML_data/xgb_models_1\"\n",
    "output_folder = \"/media/wolf6819/Elements/models_json_1\"\n",
    "os.makedirs(output_folder, exist_ok=True)\n",
    "\n",
    "# Collect and sort filenames by numeric index\n",
    "pkl_files = []\n",
    "for f in os.listdir(input_folder):\n",
    "    match = re.match(r\"xgb_receiver_(\\d+)\\.pkl\", f)\n",
    "    if match:\n",
    "        index = int(match.group(1))\n",
    "        pkl_files.append((index, f))\n",
    "\n",
    "# Sort files naturally by extracted index\n",
    "pkl_files.sort(key=lambda x: x[0])\n",
    "\n",
    "# Process files one by one\n",
    "for index, filename in pkl_files:\n",
    "    pkl_path = os.path.join(input_folder, filename)\n",
    "    \n",
    "    # Load model (only one at a time)\n",
    "    with open(pkl_path, \"rb\") as f:\n",
    "        model = pickle.load(f)\n",
    "    \n",
    "    # Save booster as JSON with same index\n",
    "    json_filename = f\"xgb_receiver_{index:03d}.json\"\n",
    "    model.get_booster().save_model(os.path.join(output_folder, json_filename))\n",
    "\n",
    "    # Clear variable from memory\n",
    "    del model\n",
    "\n",
    "print(f\"✅ Converted {len(pkl_files)} models without loading all into memory.\")\n"
   ]
  }
 ],
 "metadata": {
  "kernelspec": {
   "display_name": "pgvtrial",
   "language": "python",
   "name": "python3"
  },
  "language_info": {
   "codemirror_mode": {
    "name": "ipython",
    "version": 3
   },
   "file_extension": ".py",
   "mimetype": "text/x-python",
   "name": "python",
   "nbconvert_exporter": "python",
   "pygments_lexer": "ipython3",
   "version": "3.10.12"
  }
 },
 "nbformat": 4,
 "nbformat_minor": 2
}
